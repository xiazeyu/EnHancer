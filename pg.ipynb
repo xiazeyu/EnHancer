{
 "cells": [
  {
   "cell_type": "code",
   "execution_count": null,
   "metadata": {},
   "outputs": [],
   "source": [
    "download_text = \"\"\"\n",
    "https://e-hentai.org/g/1620034/31d6fed52f/\n",
    "https://e-hentai.org/g/1612835/35a929a514/\n",
    "\"\"\""
   ]
  },
  {
   "cell_type": "code",
   "execution_count": null,
   "metadata": {},
   "outputs": [],
   "source": [
    "download_list = download_text.split()\n",
    "len(download_list)"
   ]
  },
  {
   "cell_type": "code",
   "execution_count": null,
   "metadata": {},
   "outputs": [],
   "source": [
    "import re\n",
    "import pathlib\n",
    "import json\n",
    "gid_token_dict = dict()\n",
    "download_id_list = []\n",
    "for e in download_list:\n",
    "    m = re.search('e(?:x|-)hentai\\.org\\/g\\/([0-9]*)\\/([0-z]*)\\/*.*', e)\n",
    "    id = m.group(1)\n",
    "    token = m.group(2)\n",
    "    gid_token_dict[id] = token\n",
    "    download_id_list.append(id)"
   ]
  },
  {
   "cell_type": "code",
   "execution_count": null,
   "metadata": {},
   "outputs": [],
   "source": [
    "archiver_list = dict()\n",
    "for f in list(pathlib.Path('.').glob('output/*.json')):\n",
    "    jobj = json.loads(f.read_text())\n",
    "    if (str(jobj[\"gallery_info_full\"][\"gallery\"][\"gid\"]) in gid_token_dict):\n",
    "        gid = str(jobj[\"gallery_info_full\"][\"gallery\"][\"gid\"])\n",
    "        token = str(jobj[\"gallery_info_full\"][\"gallery\"][\"token\"])\n",
    "        archiver_key = str(jobj[\"gallery_info_full\"][\"archiver_key\"])\n",
    "        archiver_list[gid] = f'https://exhentai.org/archiver.php?gid={gid}&token={token}&or={archiver_key}'\n",
    "len(archiver_list)"
   ]
  },
  {
   "cell_type": "code",
   "execution_count": null,
   "metadata": {},
   "outputs": [],
   "source": [
    "ipb_member_id = \"<Replace me>\"\n",
    "ipb_pass_hash = \"<Replace me>\"\n",
    "igneous = \"<Replace me>\"\n",
    "import requests\n",
    "import time\n",
    "s = requests.Session()\n",
    "s.cookies.set(\"ipb_member_id\", ipb_member_id, domain=\"e-hentai.org\")\n",
    "s.cookies.set(\"ipb_pass_hash\", ipb_pass_hash, domain=\"e-hentai.org\")\n",
    "s.cookies.set(\"igneous\", igneous, domain=\"e-hentai.org\")\n",
    "s.cookies.set(\"ipb_member_id\", ipb_member_id, domain=\"exhentai.org\")\n",
    "s.cookies.set(\"ipb_pass_hash\", ipb_pass_hash, domain=\"exhentai.org\")\n",
    "s.cookies.set(\"igneous\", igneous, domain=\"exhentai.org\")\n",
    "s.headers['User-Agent'] = 'Mozilla/5.0 (Windows NT 10.0; Win64; x64) AppleWebKit/537.36 (KHTML, like Gecko) Chrome/100.0.4896.127 Safari/537.36'"
   ]
  },
  {
   "cell_type": "code",
   "execution_count": null,
   "metadata": {},
   "outputs": [],
   "source": [
    "result = []\n",
    "for index in range(len(download_id_list)):\n",
    "    id = download_id_list[index]\n",
    "    url = archiver_list[id]\n",
    "    time.sleep(1)\n",
    "    try:\n",
    "        r = s.get(url)  \n",
    "        m = re.search('Download Cost.*?<strong>(.*?)<\\/strong>', r.text)\n",
    "        cost = m.group(1)\n",
    "        m = re.search('Estimated Size.*?<strong>(.*?)<\\/strong>', r.text)\n",
    "        size = m.group(1)\n",
    "        if \" GB\" in size:\n",
    "            size = size.replace(\" GB\", \"\")\n",
    "            size = str(float(size) * 1024)\n",
    "        if \" MB\" in size:\n",
    "            size = size.replace(\" MB\", \"\")\n",
    "        cost = cost.replace(\" GP\", \"\") \\\n",
    "                    .replace(\"1,\", \"1\") \\\n",
    "                    .replace(\"1,\", \"1\") \\\n",
    "                    .replace(\"2,\", \"2\") \\\n",
    "                    .replace(\"3,\", \"3\") \\\n",
    "                    .replace(\"4,\", \"4\") \\\n",
    "                    .replace(\"5,\", \"5\") \\\n",
    "                    .replace(\"6,\", \"6\") \\\n",
    "                    .replace(\"7,\", \"7\") \\\n",
    "                    .replace(\"8,\", \"8\") \\\n",
    "                    .replace(\"9,\", \"9\") \\\n",
    "                    .replace(\"0,\", \"0\") \\\n",
    "                    .replace(\"Free!\", \"0\")\n",
    "        m = re.search('gid=([0-9]*)', url)\n",
    "        id = m.group(1)\n",
    "        print(id, cost, size, f'{index+1}/{len(download_id_list)}')\n",
    "        result.append((id, cost, size))\n",
    "        fo = open(\"test2.txt\", \"w\")\n",
    "        fo.write(json.dumps(result))\n",
    "        fo.close()\n",
    "    except Exception as e:\n",
    "        print(f'failed {index+1}/{len(download_id_list)}', url, e)"
   ]
  },
  {
   "cell_type": "code",
   "execution_count": null,
   "metadata": {},
   "outputs": [],
   "source": [
    "import math\n",
    "fo = open(\"test2.txt\", \"r\")\n",
    "test = json.loads(fo.read())\n",
    "output = []\n",
    "for e in test:\n",
    "    if e[0] in gid_token_dict:\n",
    "        link = f\"https://exhentai.org/g/{e[0]}/{gid_token_dict[e[0]]}\"\n",
    "        cost = e[1]\n",
    "        size = e[2]\n",
    "        ratio = str(math.floor(float(cost) / (float(size) * 20)))\n",
    "        output.append((link, size, cost, ratio))\n",
    "len(output)"
   ]
  },
  {
   "cell_type": "code",
   "execution_count": null,
   "metadata": {},
   "outputs": [],
   "source": [
    "output_text = json.dumps(output)\n",
    "output_text = output_text.replace(\"], [\", \"\\n\") \\\n",
    "            .replace(\"[[\", \"\") \\\n",
    "            .replace(\"]]\", \"\") \\\n",
    "            .replace(\"\\\"\", \"\") \\\n",
    "            .replace(\" \", \"\")\n",
    "output_text = \"URL,Size/MB,GPs,Ratio\\n\" + output_text\n",
    "fo = open(\"test2.csv\", \"w\")\n",
    "fo.write(output_text)\n",
    "fo.close()\n",
    "!test2.csv"
   ]
  }
 ],
 "metadata": {
  "interpreter": {
   "hash": "73a64f002d3cd4f1f0ec9856b095a2f5495bfd84480273d91663ecbd6776a1b7"
  },
  "kernelspec": {
   "display_name": "Python 3.9.7 ('base')",
   "language": "python",
   "name": "python3"
  },
  "language_info": {
   "codemirror_mode": {
    "name": "ipython",
    "version": 3
   },
   "file_extension": ".py",
   "mimetype": "text/x-python",
   "name": "python",
   "nbconvert_exporter": "python",
   "pygments_lexer": "ipython3",
   "version": "3.9.7"
  },
  "orig_nbformat": 4
 },
 "nbformat": 4,
 "nbformat_minor": 2
}
